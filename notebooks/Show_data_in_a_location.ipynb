{
 "metadata": {
  "language_info": {
   "codemirror_mode": {
    "name": "ipython",
    "version": 3
   },
   "file_extension": ".py",
   "mimetype": "text/x-python",
   "name": "python",
   "nbconvert_exporter": "python",
   "pygments_lexer": "ipython3",
   "version": "3.9.1-final"
  },
  "orig_nbformat": 2,
  "kernelspec": {
   "name": "python3",
   "display_name": "Python 3",
   "language": "python"
  }
 },
 "nbformat": 4,
 "nbformat_minor": 2,
 "cells": [
  {
   "source": [
    "We look for the data for the node closest to some coordinates"
   ],
   "cell_type": "markdown",
   "metadata": {}
  },
  {
   "cell_type": "code",
   "execution_count": 1,
   "metadata": {},
   "outputs": [],
   "source": [
    "import xarray as xr\n",
    "\n",
    "from datahub.products import Products\n",
    "from datahub.catalog import Catalog\n",
    "from datahub import utils"
   ]
  },
  {
   "cell_type": "code",
   "execution_count": 2,
   "metadata": {},
   "outputs": [],
   "source": [
    "atn_catalog_2026_85 = Catalog(Products().get(271))\n",
    "ds = atn_catalog_2026_85.datasets[3].open_xarray_conn()"
   ]
  },
  {
   "source": [
    "Using the parameter `nearest`, we obtain the node closest to the coordinates"
   ],
   "cell_type": "markdown",
   "metadata": {}
  },
  {
   "cell_type": "code",
   "execution_count": 3,
   "metadata": {},
   "outputs": [],
   "source": [
    "lat = 43.456\n",
    "lon = -2.883\n",
    "ds_loc = ds.sel(longitude=lon, latitude=lat, method=\"nearest\")"
   ]
  },
  {
   "cell_type": "code",
   "execution_count": 4,
   "metadata": {},
   "outputs": [
    {
     "output_type": "stream",
     "name": "stdout",
     "text": [
      "Coordinates:\n    latitude   float64 43.5\n    longitude  float64 -3.0\n  * time       (time) datetime64[ns] 2035-06-15T12:00:00\n"
     ]
    }
   ],
   "source": [
    "print(ds_loc.coords)"
   ]
  },
  {
   "cell_type": "code",
   "execution_count": 5,
   "metadata": {},
   "outputs": [
    {
     "output_type": "stream",
     "name": "stdout",
     "text": [
      "time: 2035-06-15T12:00:00.000000000\ndiff_hs_mean: -2.1285682561703587\nhs_robust: 1.0\ndiff_hs_std: 17.70603611015527\ndiff_tp_mean: -0.6931358637098208\ntp_robust: 1.0\ndiff_tp_std: 13.145485999260064\ndiff_dir_mean: 0.19664637310026165\ndir_robust: 1.0\ndiff_dir_std: 28.34228614088852\n"
     ]
    }
   ],
   "source": [
    "for variable in ds_loc.variables:\n",
    "    a= variable\n",
    "    try:\n",
    "        print(f\"{variable}: {ds_loc.variables[a].values[0]}\")\n",
    "    except IndexError:\n",
    "        pass\n"
   ]
  },
  {
   "cell_type": "code",
   "execution_count": null,
   "metadata": {},
   "outputs": [],
   "source": []
  }
 ]
}