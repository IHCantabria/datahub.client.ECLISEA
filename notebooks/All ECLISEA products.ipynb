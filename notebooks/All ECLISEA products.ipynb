{
 "cells": [
  {
   "source": [
    "# Obtain a complete list of all Eclisea products\n",
    "The datahub library gives us access to the list of products.  \n",
    "We are looking for those with the name `ECLISEA`."
   ],
   "cell_type": "markdown",
   "metadata": {}
  },
  {
   "cell_type": "code",
   "execution_count": 1,
   "id": "acceptable-guyana",
   "metadata": {},
   "outputs": [],
   "source": [
    "from datahub.products import Products"
   ]
  },
  {
   "source": [
    "The `filter` method returns a list of ` Product` objects. As parameters we can pass it `name` or ` alias`."
   ],
   "cell_type": "markdown",
   "metadata": {}
  },
  {
   "cell_type": "code",
   "execution_count": 2,
   "id": "static-disabled",
   "metadata": {},
   "outputs": [],
   "source": [
    "name = \"ECLISEA\"\n",
    "products = Products().filter(name=name)"
   ]
  },
  {
   "source": [
    "To list the products, we look at the `id` and the `alias`.  \n",
    "We will use the `id` in the future to access each `dataset`."
   ],
   "cell_type": "markdown",
   "metadata": {}
  },
  {
   "cell_type": "code",
   "execution_count": 3,
   "id": "infinite-roman",
   "metadata": {},
   "outputs": [
    {
     "name": "stdout",
     "output_type": "stream",
     "text": [
      "81: NCSRDdb Monthly std 1980 2009\n",
      "82: NCSRDdb Monthly mean 1980 2009\n",
      "83: NCSRDdb Annual std 1980 2009\n",
      "84: NCSRDdb Annual mean 1980 2009\n",
      "85: NCSRDdb Annual max 1980 2009\n",
      "86: GOW Europe Monthly std 1979 2017\n",
      "87: GOW Europe Monthly mean 1979 2017\n",
      "88: GOW Europe Annual std 1979 2017\n",
      "89: GOW Europe Annual mean 1979 2017\n",
      "90: GOW Europe Annual max 1979 2017\n",
      "91: CoastDat NorthSea Monthly std 1949 2014\n",
      "92: CoastDat NorthSea Monthly mean 1949 2014\n",
      "93: CoastDat NorthSea Annual std 1949 2014\n",
      "94: CoastDat NorthSea Annual mean 1949 2014\n",
      "95: CoastDat NorthSea Annual max 1949 2014\n",
      "96: CoastDat BalticSea Monthly std 1958 2002\n",
      "97: CoastDat BalticSea Monthly mean 1958 2002\n",
      "98: CoastDat BalticSea Annual std 1958 2002\n",
      "99: CoastDat BalticSea Annual mean 1958 2002\n",
      "100: CoastDat BalticSea Annual max 1958 2002\n",
      "101: BoBWA H Monthly std 1958 2002\n",
      "102: BoBWA H Monthly mean 1958 2002\n",
      "103: BoBWA H Annual std 1958 2002\n",
      "104: BoBWA H Annual mean 1958 2002\n",
      "105: BoBWA H Annual max 1958 2002\n",
      "106: GOS Europe Monthly std 1979 2017\n",
      "107: GOS Europe Monthly mean 1979 2017\n",
      "108: GOS Europe Annual std 1979 2017\n",
      "109: GOS Europe Annual mean 1979 2017\n",
      "110: GOS Europe Annual max 1979 2017\n",
      "111: MSLR Mediterranean 1950 2008\n",
      "112: LEGOS Ensemble 1960 2012\n",
      "114: CSIRO 1950 2009\n",
      "252: Nodes Tot Overall changes waves quantile 099 rcp85 2081 2100\n",
      "253: Nodes Tot Overall changes waves mean rcp85 2081 2100\n",
      "254: Nodes Tot Overall changes waves quantile 099 rcp85 2026 2045\n",
      "255: Nodes Tot Overall changes waves mean rcp85 2026 2045\n",
      "256: Nodes Tot Overall changes waves quantile 099 rcp45 2081 2100\n",
      "257: Nodes Tot Overall changes waves mean rcp45 2081 2100\n",
      "258: Nodes Tot Overall changes waves quantile 099 rcp45 2026 2045\n",
      "259: Nodes Tot Overall changes waves mean rcp45 2026 2045\n",
      "260: MED Overall changes waves quantile 099 rcp85 2081 2100\n",
      "261: MED Overall changes waves mean rcp85 2081 2100\n",
      "262: ATN Overall changes waves quantile 099 rcp85 2081 2100\n",
      "263: ATN Overall changes waves mean rcp85 2081 2100\n",
      "264: MED Overall changes waves quantile 099 rcp45 2081 2100\n",
      "265: MED Overall changes waves mean rcp45 2081 2100\n",
      "266: ATN Overall changes waves quantile 099 rcp45 2081 2100\n",
      "267: ATN Overall changes waves mean rcp45 2081 2100\n",
      "268: MED Overall changes waves quantile 099 rcp45 2026 2045\n",
      "269: MED Overall changes waves mean rcp45 2026 2045\n",
      "270: ATN Overall changes waves quantile 099 rcp45 2026 2045\n",
      "271: ATN Overall changes waves mean rcp45 2026 2045\n",
      "272: Nodes Tot Overall changes NTR quantile 099 rcp85 2081 2100\n",
      "273: Nodes Tot Overall changes NTR quantile 099 rcp85 2026 2045\n",
      "274: Nodes Tot Overall changes NTR quantile 099 rcp45 2081 2100\n",
      "275: Nodes Tot Overall changes NTR quantile 099 rcp45 2026 2045\n",
      "276: MED Overall changes NTR quantile 099 rcp85 2081 2100\n",
      "277: ATN Overall changes NTR quantile 099 rcp85 2081 2100\n",
      "278: MED Overall changes NTR quantile 099 rcp85 2026 2045\n",
      "279: ATN Overall changes NTR quantile 099 rcp85 2026 2045\n",
      "280: MED Overall changes NTR quantile 099 rcp45 2081 2100\n",
      "281: ATN Overall changes NTR quantile 099 rcp45 2081 2100\n",
      "282: MED Overall changes NTR quantile 099 rcp45 2026 2045\n",
      "283: ATN Overall changes NTR quantile 099 rcp45 2026 2045\n",
      "284: Nodes Overall changes MSLR mean rcp85 2081 2100\n",
      "285: Nodes Overall changes MSLR mean rcp85 2026 2045\n",
      "286: Nodes Overall changes MSLR mean rcp45 2081 2100\n",
      "287: Nodes Overall changes MSLR mean rcp45 2026 2045\n",
      "288: Overall changes MSLR mean rcp85 2081 2100\n",
      "289: Overall changes MSLR mean rcp85 2026 2045\n",
      "290: Overall changes MSLR mean rcp45 2081 2100\n",
      "291: Overall changes MSLR mean rcp45 2026 2045\n"
     ]
    }
   ],
   "source": [
    "print(\"\\n\".join([f\"{product.id}: {product.alias}\" for product in products]))"
   ]
  },
  {
   "cell_type": "code",
   "execution_count": null,
   "id": "designing-carol",
   "metadata": {},
   "outputs": [],
   "source": []
  }
 ],
 "metadata": {
  "kernelspec": {
   "display_name": "Python 3",
   "language": "python",
   "name": "python3"
  },
  "language_info": {
   "codemirror_mode": {
    "name": "ipython",
    "version": 3
   },
   "file_extension": ".py",
   "mimetype": "text/x-python",
   "name": "python",
   "nbconvert_exporter": "python",
   "pygments_lexer": "ipython3",
   "version": "3.9.1"
  }
 },
 "nbformat": 4,
 "nbformat_minor": 5
}